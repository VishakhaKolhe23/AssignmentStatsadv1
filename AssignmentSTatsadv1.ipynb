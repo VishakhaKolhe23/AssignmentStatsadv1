{
  "nbformat": 4,
  "nbformat_minor": 0,
  "metadata": {
    "colab": {
      "provenance": []
    },
    "kernelspec": {
      "name": "python3",
      "display_name": "Python 3"
    },
    "language_info": {
      "name": "python"
    }
  },
  "cells": [
    {
      "cell_type": "markdown",
      "source": [
        "📘 Statistics Advance - 1: Assignment Solutions\n",
        "1. Explain the properties of the F-distribution.\n",
        "Right-skewed: The F-distribution is positively skewed.\n",
        "\n",
        "Non-negative: F-values are always ≥ 0.\n",
        "\n",
        "Asymmetry: Not symmetric like the normal distribution.\n",
        "\n",
        "Dependent on two degrees of freedom (df1, df2): One for the numerator and one for the denominator.\n",
        "\n",
        "Used to compare variances by dividing two independent chi-squared distributions (scaled).\n",
        "\n",
        "2. In which types of statistical tests is the F-distribution used, and why is it appropriate for these tests?\n",
        "Used in:\n",
        "\n",
        "F-test for comparing two variances\n",
        "\n",
        "ANOVA (Analysis of Variance)\n",
        "\n",
        "Regression analysis (to test overall model significance)\n",
        "\n",
        "Why appropriate?\n",
        "\n",
        "Because it’s derived from the ratio of two independent sample variances.\n",
        "\n",
        "Helps assess whether group means are significantly different.\n",
        "\n",
        "3. Key assumptions for an F-test:\n",
        "Populations are normally distributed\n",
        "\n",
        "Samples are independent\n",
        "\n",
        "Data is quantitative\n",
        "\n",
        "The test is sensitive to violations of normality, especially in small samples.\n",
        "\n",
        "4. Purpose of ANOVA vs t-test:\n",
        "ANOVA checks if more than two group means are different.\n",
        "\n",
        "t-test compares only two groups.\n",
        "\n",
        "ANOVA controls for Type I error inflation which occurs if multiple t-tests are performed.\n",
        "\n",
        "5. When to use one-way ANOVA instead of multiple t-tests:\n",
        "When comparing 3 or more groups\n",
        "\n",
        "Using multiple t-tests increases the chance of false positives (Type I errors).\n",
        "\n",
        "ANOVA keeps α (significance level) consistent and provides a single test.\n",
        "\n",
        "6. How ANOVA partitions variance:\n",
        "Total Variance (SST) is split into:\n",
        "\n",
        "Between-group variance (SSB): Due to differences between group means.\n",
        "\n",
        "Within-group variance (SSW): Due to variability within each group.\n",
        "\n",
        "F-statistic Formula:\n",
        "\n",
        "𝐹\n",
        "=\n",
        "MSB\n",
        "MSW\n",
        "=\n",
        "SSB\n",
        "/\n",
        "(\n",
        "𝑘\n",
        "−\n",
        "1\n",
        ")\n",
        "SSW\n",
        "/\n",
        "(\n",
        "𝑁\n",
        "−\n",
        "𝑘\n",
        ")\n",
        "F=\n",
        "MSW\n",
        "MSB\n",
        "​\n",
        " =\n",
        "SSW/(N−k)\n",
        "SSB/(k−1)\n",
        "​\n",
        "\n",
        "where k is number of groups, N is total samples.\n",
        "\n",
        "7. Classical vs Bayesian ANOVA\n",
        "Aspect\tClassical (Frequentist)\tBayesian\n",
        "Uncertainty\tFixed parameters, probability via sampling\tParameters have distributions\n",
        "Interpretation\tp-value based decision\tPosterior probability based\n",
        "Hypothesis Testing\tReject/fail to reject H₀\tEstimate probability of H₀ being true\n",
        "Output\tF-statistic, p-value\tPosterior distributions, Bayes factors\n",
        "\n"
      ],
      "metadata": {
        "id": "aWXssNmZ5YpD"
      }
    },
    {
      "cell_type": "code",
      "execution_count": 1,
      "metadata": {
        "colab": {
          "base_uri": "https://localhost:8080/"
        },
        "id": "AXDCCJh05QlS",
        "outputId": "2bf34dcd-6b05-42df-9089-1fcfd8a74aba"
      },
      "outputs": [
        {
          "output_type": "stream",
          "name": "stdout",
          "text": [
            "F-statistic: 2.089\n",
            "P-value: 0.4930\n"
          ]
        }
      ],
      "source": [
        "import numpy as np\n",
        "from scipy.stats import f\n",
        "\n",
        "# Data\n",
        "a = [48, 52, 55, 60, 62]\n",
        "b = [45, 50, 55, 52, 47]\n",
        "\n",
        "# Sample variances\n",
        "var_a = np.var(a, ddof=1)\n",
        "var_b = np.var(b, ddof=1)\n",
        "\n",
        "# F-statistic (larger variance / smaller variance)\n",
        "F = var_a / var_b if var_a > var_b else var_b / var_a\n",
        "\n",
        "# Degrees of freedom\n",
        "df1 = len(a) - 1\n",
        "df2 = len(b) - 1\n",
        "\n",
        "# Two-tailed p-value\n",
        "p = 2 * min(f.cdf(F, df1, df2), 1 - f.cdf(F, df1, df2))\n",
        "\n",
        "print(f\"F-statistic: {F:.3f}\")\n",
        "print(f\"P-value: {p:.4f}\")\n"
      ]
    },
    {
      "cell_type": "code",
      "source": [
        "from scipy.stats import f_oneway\n",
        "\n",
        "# Data\n",
        "region_a = [160, 162, 165, 158, 164]\n",
        "region_b = [172, 175, 170, 168, 174]\n",
        "region_c = [180, 182, 179, 185, 183]\n",
        "\n",
        "# Perform one-way ANOVA\n",
        "f_stat, p_val = f_oneway(region_a, region_b, region_c)\n",
        "\n",
        "print(f\"F-Statistic: {f_stat:.3f}\")\n",
        "print(f\"P-Value: {p_val:.4f}\")\n"
      ],
      "metadata": {
        "id": "GKo69R7T5cZQ",
        "colab": {
          "base_uri": "https://localhost:8080/"
        },
        "outputId": "d1425a47-bc7d-4b4d-cdf2-30f9cd25069b"
      },
      "execution_count": 2,
      "outputs": [
        {
          "output_type": "stream",
          "name": "stdout",
          "text": [
            "F-Statistic: 67.873\n",
            "P-Value: 0.0000\n"
          ]
        }
      ]
    },
    {
      "cell_type": "code",
      "source": [],
      "metadata": {
        "id": "frz_l3-O7I7W"
      },
      "execution_count": null,
      "outputs": []
    }
  ]
}